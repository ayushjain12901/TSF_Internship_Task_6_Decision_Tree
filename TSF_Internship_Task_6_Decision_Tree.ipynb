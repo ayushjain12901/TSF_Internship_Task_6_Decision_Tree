{
  "nbformat": 4,
  "nbformat_minor": 0,
  "metadata": {
    "colab": {
      "name": "TSF_Internship_Task_6_Decision_Tree",
      "provenance": [],
      "collapsed_sections": []
    },
    "kernelspec": {
      "name": "python3",
      "display_name": "Python 3"
    }
  },
  "cells": [
    {
      "cell_type": "markdown",
      "metadata": {
        "id": "YUe7APmoQ0v1"
      },
      "source": [
        "**The Sparks Foundation #GRIPMAR21**\n",
        "\n",
        "\n",
        "**Prediction using Decision Tree Algorithm**\n",
        "\n",
        "**Submitted by Ayush Jain**\n",
        "\n",
        "**Task6: Create the Decision Tree classifier and visualize it graphically.**"
      ]
    },
    {
      "cell_type": "markdown",
      "metadata": {
        "id": "SLrQaho0RRwT"
      },
      "source": [
        "**Importing necessary libraries**"
      ]
    },
    {
      "cell_type": "code",
      "metadata": {
        "id": "nSq2CkCcDQRg"
      },
      "source": [
        "import numpy as np\n",
        "import pandas as pd\n",
        "from sklearn.model_selection import train_test_split\n",
        "from sklearn.tree import DecisionTreeClassifier\n",
        "from sklearn.metrics import accuracy_score, classification_report,confusion_matrix\n",
        "import graphviz\n",
        "from sklearn import tree\n"
      ],
      "execution_count": 1,
      "outputs": []
    },
    {
      "cell_type": "markdown",
      "metadata": {
        "id": "WKGnJPqfSNGv"
      },
      "source": [
        "**Load Data**"
      ]
    },
    {
      "cell_type": "code",
      "metadata": {
        "id": "Wi6W9socDXXy",
        "colab": {
          "base_uri": "https://localhost:8080/",
          "height": 195
        },
        "outputId": "f641a054-3575-4cf1-bc32-63f86b290cac"
      },
      "source": [
        "#Loading Iris dataset\n",
        "iris_data = pd.read_csv('Iris.csv')\n",
        "iris_data.head()"
      ],
      "execution_count": 2,
      "outputs": [
        {
          "output_type": "execute_result",
          "data": {
            "text/html": [
              "<div>\n",
              "<style scoped>\n",
              "    .dataframe tbody tr th:only-of-type {\n",
              "        vertical-align: middle;\n",
              "    }\n",
              "\n",
              "    .dataframe tbody tr th {\n",
              "        vertical-align: top;\n",
              "    }\n",
              "\n",
              "    .dataframe thead th {\n",
              "        text-align: right;\n",
              "    }\n",
              "</style>\n",
              "<table border=\"1\" class=\"dataframe\">\n",
              "  <thead>\n",
              "    <tr style=\"text-align: right;\">\n",
              "      <th></th>\n",
              "      <th>Id</th>\n",
              "      <th>SepalLengthCm</th>\n",
              "      <th>SepalWidthCm</th>\n",
              "      <th>PetalLengthCm</th>\n",
              "      <th>PetalWidthCm</th>\n",
              "      <th>Species</th>\n",
              "    </tr>\n",
              "  </thead>\n",
              "  <tbody>\n",
              "    <tr>\n",
              "      <th>0</th>\n",
              "      <td>1</td>\n",
              "      <td>5.1</td>\n",
              "      <td>3.5</td>\n",
              "      <td>1.4</td>\n",
              "      <td>0.2</td>\n",
              "      <td>Iris-setosa</td>\n",
              "    </tr>\n",
              "    <tr>\n",
              "      <th>1</th>\n",
              "      <td>2</td>\n",
              "      <td>4.9</td>\n",
              "      <td>3.0</td>\n",
              "      <td>1.4</td>\n",
              "      <td>0.2</td>\n",
              "      <td>Iris-setosa</td>\n",
              "    </tr>\n",
              "    <tr>\n",
              "      <th>2</th>\n",
              "      <td>3</td>\n",
              "      <td>4.7</td>\n",
              "      <td>3.2</td>\n",
              "      <td>1.3</td>\n",
              "      <td>0.2</td>\n",
              "      <td>Iris-setosa</td>\n",
              "    </tr>\n",
              "    <tr>\n",
              "      <th>3</th>\n",
              "      <td>4</td>\n",
              "      <td>4.6</td>\n",
              "      <td>3.1</td>\n",
              "      <td>1.5</td>\n",
              "      <td>0.2</td>\n",
              "      <td>Iris-setosa</td>\n",
              "    </tr>\n",
              "    <tr>\n",
              "      <th>4</th>\n",
              "      <td>5</td>\n",
              "      <td>5.0</td>\n",
              "      <td>3.6</td>\n",
              "      <td>1.4</td>\n",
              "      <td>0.2</td>\n",
              "      <td>Iris-setosa</td>\n",
              "    </tr>\n",
              "  </tbody>\n",
              "</table>\n",
              "</div>"
            ],
            "text/plain": [
              "   Id  SepalLengthCm  SepalWidthCm  PetalLengthCm  PetalWidthCm      Species\n",
              "0   1            5.1           3.5            1.4           0.2  Iris-setosa\n",
              "1   2            4.9           3.0            1.4           0.2  Iris-setosa\n",
              "2   3            4.7           3.2            1.3           0.2  Iris-setosa\n",
              "3   4            4.6           3.1            1.5           0.2  Iris-setosa\n",
              "4   5            5.0           3.6            1.4           0.2  Iris-setosa"
            ]
          },
          "metadata": {
            "tags": []
          },
          "execution_count": 2
        }
      ]
    },
    {
      "cell_type": "markdown",
      "metadata": {
        "id": "vJZgZeJ06Je8"
      },
      "source": [
        "**Preprocessing tha data**"
      ]
    },
    {
      "cell_type": "code",
      "metadata": {
        "colab": {
          "base_uri": "https://localhost:8080/",
          "height": 212
        },
        "id": "6mz8PyG04i80",
        "outputId": "a0f98be6-4092-41d2-e6f7-929d31c7ddb3"
      },
      "source": [
        "processed_iris_data = iris_data.iloc[:,1:]\n",
        "processed_iris_data['Species'],class_names = pd.factorize(processed_iris_data['Species'])\n",
        "print(\"After Preprocessing\")\n",
        "processed_iris_data.head()"
      ],
      "execution_count": 3,
      "outputs": [
        {
          "output_type": "stream",
          "text": [
            "After Preprocessing\n"
          ],
          "name": "stdout"
        },
        {
          "output_type": "execute_result",
          "data": {
            "text/html": [
              "<div>\n",
              "<style scoped>\n",
              "    .dataframe tbody tr th:only-of-type {\n",
              "        vertical-align: middle;\n",
              "    }\n",
              "\n",
              "    .dataframe tbody tr th {\n",
              "        vertical-align: top;\n",
              "    }\n",
              "\n",
              "    .dataframe thead th {\n",
              "        text-align: right;\n",
              "    }\n",
              "</style>\n",
              "<table border=\"1\" class=\"dataframe\">\n",
              "  <thead>\n",
              "    <tr style=\"text-align: right;\">\n",
              "      <th></th>\n",
              "      <th>SepalLengthCm</th>\n",
              "      <th>SepalWidthCm</th>\n",
              "      <th>PetalLengthCm</th>\n",
              "      <th>PetalWidthCm</th>\n",
              "      <th>Species</th>\n",
              "    </tr>\n",
              "  </thead>\n",
              "  <tbody>\n",
              "    <tr>\n",
              "      <th>0</th>\n",
              "      <td>5.1</td>\n",
              "      <td>3.5</td>\n",
              "      <td>1.4</td>\n",
              "      <td>0.2</td>\n",
              "      <td>0</td>\n",
              "    </tr>\n",
              "    <tr>\n",
              "      <th>1</th>\n",
              "      <td>4.9</td>\n",
              "      <td>3.0</td>\n",
              "      <td>1.4</td>\n",
              "      <td>0.2</td>\n",
              "      <td>0</td>\n",
              "    </tr>\n",
              "    <tr>\n",
              "      <th>2</th>\n",
              "      <td>4.7</td>\n",
              "      <td>3.2</td>\n",
              "      <td>1.3</td>\n",
              "      <td>0.2</td>\n",
              "      <td>0</td>\n",
              "    </tr>\n",
              "    <tr>\n",
              "      <th>3</th>\n",
              "      <td>4.6</td>\n",
              "      <td>3.1</td>\n",
              "      <td>1.5</td>\n",
              "      <td>0.2</td>\n",
              "      <td>0</td>\n",
              "    </tr>\n",
              "    <tr>\n",
              "      <th>4</th>\n",
              "      <td>5.0</td>\n",
              "      <td>3.6</td>\n",
              "      <td>1.4</td>\n",
              "      <td>0.2</td>\n",
              "      <td>0</td>\n",
              "    </tr>\n",
              "  </tbody>\n",
              "</table>\n",
              "</div>"
            ],
            "text/plain": [
              "   SepalLengthCm  SepalWidthCm  PetalLengthCm  PetalWidthCm  Species\n",
              "0            5.1           3.5            1.4           0.2        0\n",
              "1            4.9           3.0            1.4           0.2        0\n",
              "2            4.7           3.2            1.3           0.2        0\n",
              "3            4.6           3.1            1.5           0.2        0\n",
              "4            5.0           3.6            1.4           0.2        0"
            ]
          },
          "metadata": {
            "tags": []
          },
          "execution_count": 3
        }
      ]
    },
    {
      "cell_type": "code",
      "metadata": {
        "colab": {
          "base_uri": "https://localhost:8080/"
        },
        "id": "9SCktRLh6YAU",
        "outputId": "ebe87891-fefa-413a-f9cf-df63a24934bf"
      },
      "source": [
        "#information of data set\n",
        "processed_iris_data.info()"
      ],
      "execution_count": 4,
      "outputs": [
        {
          "output_type": "stream",
          "text": [
            "<class 'pandas.core.frame.DataFrame'>\n",
            "RangeIndex: 150 entries, 0 to 149\n",
            "Data columns (total 5 columns):\n",
            " #   Column         Non-Null Count  Dtype  \n",
            "---  ------         --------------  -----  \n",
            " 0   SepalLengthCm  150 non-null    float64\n",
            " 1   SepalWidthCm   150 non-null    float64\n",
            " 2   PetalLengthCm  150 non-null    float64\n",
            " 3   PetalWidthCm   150 non-null    float64\n",
            " 4   Species        150 non-null    int64  \n",
            "dtypes: float64(4), int64(1)\n",
            "memory usage: 6.0 KB\n"
          ],
          "name": "stdout"
        }
      ]
    },
    {
      "cell_type": "markdown",
      "metadata": {
        "id": "d5e-0_s3Sjbe"
      },
      "source": [
        "**Splitting the data into train and test set**"
      ]
    },
    {
      "cell_type": "code",
      "metadata": {
        "colab": {
          "base_uri": "https://localhost:8080/"
        },
        "id": "JpilV2N6SihC",
        "outputId": "9fab3e68-3aa7-46d0-aecc-f1e9b8b0b905"
      },
      "source": [
        "X = processed_iris_data.iloc[:,:4]\n",
        "Y = processed_iris_data.iloc[:,4]\n",
        "\n",
        "X_train, X_test, Y_train, Y_test = train_test_split(X,Y)\n",
        "\n",
        "print(\"Shape of X_train: \",X_train.shape)\n",
        "print(\"Shape of Y_train: \",Y_train.shape)\n",
        "print(\"Shape of X_test: \",X_test.shape)\n",
        "print(\"Shape of Y_test: \",Y_test.shape)\n"
      ],
      "execution_count": 5,
      "outputs": [
        {
          "output_type": "stream",
          "text": [
            "Shape of X_train:  (112, 4)\n",
            "Shape of Y_train:  (112,)\n",
            "Shape of X_test:  (38, 4)\n",
            "Shape of Y_test:  (38,)\n"
          ],
          "name": "stdout"
        }
      ]
    },
    {
      "cell_type": "markdown",
      "metadata": {
        "id": "PvzjxtB2Tr6B"
      },
      "source": [
        "**Training a classifier**"
      ]
    },
    {
      "cell_type": "code",
      "metadata": {
        "colab": {
          "base_uri": "https://localhost:8080/"
        },
        "id": "SnRBpUx0TZ5B",
        "outputId": "aaa8a9c1-b829-4b98-dbaf-85c4e8149743"
      },
      "source": [
        "DTC = DecisionTreeClassifier(criterion='entropy')\n",
        "DTC.fit(X_train,Y_train)"
      ],
      "execution_count": 6,
      "outputs": [
        {
          "output_type": "execute_result",
          "data": {
            "text/plain": [
              "DecisionTreeClassifier(ccp_alpha=0.0, class_weight=None, criterion='entropy',\n",
              "                       max_depth=None, max_features=None, max_leaf_nodes=None,\n",
              "                       min_impurity_decrease=0.0, min_impurity_split=None,\n",
              "                       min_samples_leaf=1, min_samples_split=2,\n",
              "                       min_weight_fraction_leaf=0.0, presort='deprecated',\n",
              "                       random_state=None, splitter='best')"
            ]
          },
          "metadata": {
            "tags": []
          },
          "execution_count": 6
        }
      ]
    },
    {
      "cell_type": "markdown",
      "metadata": {
        "id": "V2RxnrJoTvT-"
      },
      "source": [
        "**Making Predictions**"
      ]
    },
    {
      "cell_type": "code",
      "metadata": {
        "id": "KIFJ-AHODgEC",
        "colab": {
          "base_uri": "https://localhost:8080/"
        },
        "outputId": "67588461-2240-49a8-fc62-9d670a514b3f"
      },
      "source": [
        "pred = DTC.predict(X_test)\n",
        "print(\"Predicted values of test set are: \",pred)"
      ],
      "execution_count": 7,
      "outputs": [
        {
          "output_type": "stream",
          "text": [
            "Predicted values of test set are:  [0 1 1 1 0 1 0 1 2 2 2 0 0 1 2 0 2 0 2 1 1 0 2 0 1 2 0 1 1 0 2 2 1 2 0 1 2\n",
            " 2]\n"
          ],
          "name": "stdout"
        }
      ]
    },
    {
      "cell_type": "markdown",
      "metadata": {
        "id": "fuzZ5IE55NLv"
      },
      "source": [
        "**Evaluating the Model**"
      ]
    },
    {
      "cell_type": "code",
      "metadata": {
        "colab": {
          "base_uri": "https://localhost:8080/"
        },
        "id": "-wFvpxJo5KqL",
        "outputId": "8142bef0-13ef-4412-fe69-6570f692bc2b"
      },
      "source": [
        "#calculating metrics\n",
        "print(\"\\nAccuracy score of model is: \",accuracy_score(Y_test,pred))\n",
        "\n",
        "print(\"\\nConfusion matrix \\n\",confusion_matrix(Y_test,pred))\n",
        "\n",
        "print(\"\\n\\nClassification report of model\\n \",classification_report(Y_test,pred))"
      ],
      "execution_count": 8,
      "outputs": [
        {
          "output_type": "stream",
          "text": [
            "\n",
            "Accuracy score of model is:  0.9473684210526315\n",
            "\n",
            "Confusion matrix \n",
            " [[12  0  0]\n",
            " [ 0 11  0]\n",
            " [ 0  2 13]]\n",
            "\n",
            "\n",
            "Classification report of model\n",
            "                precision    recall  f1-score   support\n",
            "\n",
            "           0       1.00      1.00      1.00        12\n",
            "           1       0.85      1.00      0.92        11\n",
            "           2       1.00      0.87      0.93        15\n",
            "\n",
            "    accuracy                           0.95        38\n",
            "   macro avg       0.95      0.96      0.95        38\n",
            "weighted avg       0.96      0.95      0.95        38\n",
            "\n"
          ],
          "name": "stdout"
        }
      ]
    },
    {
      "cell_type": "markdown",
      "metadata": {
        "id": "6xCMzVytUcwq"
      },
      "source": [
        "**Visualizing the Decision Tree**"
      ]
    },
    {
      "cell_type": "code",
      "metadata": {
        "id": "_aOXGCrkDvcv",
        "colab": {
          "base_uri": "https://localhost:8080/",
          "height": 916
        },
        "outputId": "76ffa609-fd97-4c44-d674-83fd6b962306"
      },
      "source": [
        "features = list(X.columns)\n",
        "\n",
        "graph_data = tree.export_graphviz(DTC, out_file=None, filled=True,\n",
        "                                feature_names=features,  \n",
        "                                class_names=str(class_names),rounded=True)\n",
        "\n",
        "graph = graphviz.Source(graph_data)  \n",
        "graph"
      ],
      "execution_count": 9,
      "outputs": [
        {
          "output_type": "execute_result",
          "data": {
            "text/plain": [
              "<graphviz.files.Source at 0x7efea4b60310>"
            ],
            "image/svg+xml": "<?xml version=\"1.0\" encoding=\"UTF-8\" standalone=\"no\"?>\n<!DOCTYPE svg PUBLIC \"-//W3C//DTD SVG 1.1//EN\"\n \"http://www.w3.org/Graphics/SVG/1.1/DTD/svg11.dtd\">\n<!-- Generated by graphviz version 2.40.1 (20161225.0304)\n -->\n<!-- Title: Tree Pages: 1 -->\n<svg width=\"878pt\" height=\"671pt\"\n viewBox=\"0.00 0.00 878.00 671.00\" xmlns=\"http://www.w3.org/2000/svg\" xmlns:xlink=\"http://www.w3.org/1999/xlink\">\n<g id=\"graph0\" class=\"graph\" transform=\"scale(1 1) rotate(0) translate(4 667)\">\n<title>Tree</title>\n<polygon fill=\"#ffffff\" stroke=\"transparent\" points=\"-4,4 -4,-667 874,-667 874,4 -4,4\"/>\n<!-- 0 -->\n<g id=\"node1\" class=\"node\">\n<title>0</title>\n<path fill=\"#fcfffd\" stroke=\"#000000\" d=\"M526,-663C526,-663 397,-663 397,-663 391,-663 385,-657 385,-651 385,-651 385,-592 385,-592 385,-586 391,-580 397,-580 397,-580 526,-580 526,-580 532,-580 538,-586 538,-592 538,-592 538,-651 538,-651 538,-657 532,-663 526,-663\"/>\n<text text-anchor=\"middle\" x=\"461.5\" y=\"-647.8\" font-family=\"Helvetica,sans-Serif\" font-size=\"14.00\" fill=\"#000000\">PetalWidthCm &lt;= 0.7</text>\n<text text-anchor=\"middle\" x=\"461.5\" y=\"-632.8\" font-family=\"Helvetica,sans-Serif\" font-size=\"14.00\" fill=\"#000000\">entropy = 1.583</text>\n<text text-anchor=\"middle\" x=\"461.5\" y=\"-617.8\" font-family=\"Helvetica,sans-Serif\" font-size=\"14.00\" fill=\"#000000\">samples = 112</text>\n<text text-anchor=\"middle\" x=\"461.5\" y=\"-602.8\" font-family=\"Helvetica,sans-Serif\" font-size=\"14.00\" fill=\"#000000\">value = [38, 39, 35]</text>\n<text text-anchor=\"middle\" x=\"461.5\" y=\"-587.8\" font-family=\"Helvetica,sans-Serif\" font-size=\"14.00\" fill=\"#000000\">class = n</text>\n</g>\n<!-- 1 -->\n<g id=\"node2\" class=\"node\">\n<title>1</title>\n<path fill=\"#e58139\" stroke=\"#000000\" d=\"M431,-536.5C431,-536.5 332,-536.5 332,-536.5 326,-536.5 320,-530.5 320,-524.5 320,-524.5 320,-480.5 320,-480.5 320,-474.5 326,-468.5 332,-468.5 332,-468.5 431,-468.5 431,-468.5 437,-468.5 443,-474.5 443,-480.5 443,-480.5 443,-524.5 443,-524.5 443,-530.5 437,-536.5 431,-536.5\"/>\n<text text-anchor=\"middle\" x=\"381.5\" y=\"-521.3\" font-family=\"Helvetica,sans-Serif\" font-size=\"14.00\" fill=\"#000000\">entropy = 0.0</text>\n<text text-anchor=\"middle\" x=\"381.5\" y=\"-506.3\" font-family=\"Helvetica,sans-Serif\" font-size=\"14.00\" fill=\"#000000\">samples = 38</text>\n<text text-anchor=\"middle\" x=\"381.5\" y=\"-491.3\" font-family=\"Helvetica,sans-Serif\" font-size=\"14.00\" fill=\"#000000\">value = [38, 0, 0]</text>\n<text text-anchor=\"middle\" x=\"381.5\" y=\"-476.3\" font-family=\"Helvetica,sans-Serif\" font-size=\"14.00\" fill=\"#000000\">class = I</text>\n</g>\n<!-- 0&#45;&gt;1 -->\n<g id=\"edge1\" class=\"edge\">\n<title>0&#45;&gt;1</title>\n<path fill=\"none\" stroke=\"#000000\" d=\"M433.5199,-579.8796C425.9797,-568.6636 417.8113,-556.5131 410.2309,-545.2372\"/>\n<polygon fill=\"#000000\" stroke=\"#000000\" points=\"413.0527,-543.1612 404.5689,-536.8149 407.2434,-547.0667 413.0527,-543.1612\"/>\n<text text-anchor=\"middle\" x=\"399.7608\" y=\"-557.6482\" font-family=\"Helvetica,sans-Serif\" font-size=\"14.00\" fill=\"#000000\">True</text>\n</g>\n<!-- 2 -->\n<g id=\"node3\" class=\"node\">\n<title>2</title>\n<path fill=\"#ebfcf2\" stroke=\"#000000\" d=\"M610,-544C610,-544 473,-544 473,-544 467,-544 461,-538 461,-532 461,-532 461,-473 461,-473 461,-467 467,-461 473,-461 473,-461 610,-461 610,-461 616,-461 622,-467 622,-473 622,-473 622,-532 622,-532 622,-538 616,-544 610,-544\"/>\n<text text-anchor=\"middle\" x=\"541.5\" y=\"-528.8\" font-family=\"Helvetica,sans-Serif\" font-size=\"14.00\" fill=\"#000000\">PetalWidthCm &lt;= 1.75</text>\n<text text-anchor=\"middle\" x=\"541.5\" y=\"-513.8\" font-family=\"Helvetica,sans-Serif\" font-size=\"14.00\" fill=\"#000000\">entropy = 0.998</text>\n<text text-anchor=\"middle\" x=\"541.5\" y=\"-498.8\" font-family=\"Helvetica,sans-Serif\" font-size=\"14.00\" fill=\"#000000\">samples = 74</text>\n<text text-anchor=\"middle\" x=\"541.5\" y=\"-483.8\" font-family=\"Helvetica,sans-Serif\" font-size=\"14.00\" fill=\"#000000\">value = [0, 39, 35]</text>\n<text text-anchor=\"middle\" x=\"541.5\" y=\"-468.8\" font-family=\"Helvetica,sans-Serif\" font-size=\"14.00\" fill=\"#000000\">class = n</text>\n</g>\n<!-- 0&#45;&gt;2 -->\n<g id=\"edge2\" class=\"edge\">\n<title>0&#45;&gt;2</title>\n<path fill=\"none\" stroke=\"#000000\" d=\"M489.4801,-579.8796C495.3531,-571.1434 501.6073,-561.8404 507.6679,-552.8253\"/>\n<polygon fill=\"#000000\" stroke=\"#000000\" points=\"510.7259,-554.5498 513.4005,-544.2981 504.9166,-550.6444 510.7259,-554.5498\"/>\n<text text-anchor=\"middle\" x=\"518.2085\" y=\"-565.1314\" font-family=\"Helvetica,sans-Serif\" font-size=\"14.00\" fill=\"#000000\">False</text>\n</g>\n<!-- 3 -->\n<g id=\"node4\" class=\"node\">\n<title>3</title>\n<path fill=\"#49e78b\" stroke=\"#000000\" d=\"M506.5,-425C506.5,-425 360.5,-425 360.5,-425 354.5,-425 348.5,-419 348.5,-413 348.5,-413 348.5,-354 348.5,-354 348.5,-348 354.5,-342 360.5,-342 360.5,-342 506.5,-342 506.5,-342 512.5,-342 518.5,-348 518.5,-354 518.5,-354 518.5,-413 518.5,-413 518.5,-419 512.5,-425 506.5,-425\"/>\n<text text-anchor=\"middle\" x=\"433.5\" y=\"-409.8\" font-family=\"Helvetica,sans-Serif\" font-size=\"14.00\" fill=\"#000000\">PetalLengthCm &lt;= 5.05</text>\n<text text-anchor=\"middle\" x=\"433.5\" y=\"-394.8\" font-family=\"Helvetica,sans-Serif\" font-size=\"14.00\" fill=\"#000000\">entropy = 0.378</text>\n<text text-anchor=\"middle\" x=\"433.5\" y=\"-379.8\" font-family=\"Helvetica,sans-Serif\" font-size=\"14.00\" fill=\"#000000\">samples = 41</text>\n<text text-anchor=\"middle\" x=\"433.5\" y=\"-364.8\" font-family=\"Helvetica,sans-Serif\" font-size=\"14.00\" fill=\"#000000\">value = [0, 38, 3]</text>\n<text text-anchor=\"middle\" x=\"433.5\" y=\"-349.8\" font-family=\"Helvetica,sans-Serif\" font-size=\"14.00\" fill=\"#000000\">class = n</text>\n</g>\n<!-- 2&#45;&gt;3 -->\n<g id=\"edge3\" class=\"edge\">\n<title>2&#45;&gt;3</title>\n<path fill=\"none\" stroke=\"#000000\" d=\"M503.7268,-460.8796C495.4713,-451.7832 486.658,-442.0722 478.1626,-432.7116\"/>\n<polygon fill=\"#000000\" stroke=\"#000000\" points=\"480.7467,-430.3509 471.4344,-425.2981 475.5632,-435.0553 480.7467,-430.3509\"/>\n</g>\n<!-- 12 -->\n<g id=\"node13\" class=\"node\">\n<title>12</title>\n<path fill=\"#853fe6\" stroke=\"#000000\" d=\"M722.5,-425C722.5,-425 576.5,-425 576.5,-425 570.5,-425 564.5,-419 564.5,-413 564.5,-413 564.5,-354 564.5,-354 564.5,-348 570.5,-342 576.5,-342 576.5,-342 722.5,-342 722.5,-342 728.5,-342 734.5,-348 734.5,-354 734.5,-354 734.5,-413 734.5,-413 734.5,-419 728.5,-425 722.5,-425\"/>\n<text text-anchor=\"middle\" x=\"649.5\" y=\"-409.8\" font-family=\"Helvetica,sans-Serif\" font-size=\"14.00\" fill=\"#000000\">PetalLengthCm &lt;= 4.85</text>\n<text text-anchor=\"middle\" x=\"649.5\" y=\"-394.8\" font-family=\"Helvetica,sans-Serif\" font-size=\"14.00\" fill=\"#000000\">entropy = 0.196</text>\n<text text-anchor=\"middle\" x=\"649.5\" y=\"-379.8\" font-family=\"Helvetica,sans-Serif\" font-size=\"14.00\" fill=\"#000000\">samples = 33</text>\n<text text-anchor=\"middle\" x=\"649.5\" y=\"-364.8\" font-family=\"Helvetica,sans-Serif\" font-size=\"14.00\" fill=\"#000000\">value = [0, 1, 32]</text>\n<text text-anchor=\"middle\" x=\"649.5\" y=\"-349.8\" font-family=\"Helvetica,sans-Serif\" font-size=\"14.00\" fill=\"#000000\">class = d</text>\n</g>\n<!-- 2&#45;&gt;12 -->\n<g id=\"edge12\" class=\"edge\">\n<title>2&#45;&gt;12</title>\n<path fill=\"none\" stroke=\"#000000\" d=\"M579.2732,-460.8796C587.5287,-451.7832 596.342,-442.0722 604.8374,-432.7116\"/>\n<polygon fill=\"#000000\" stroke=\"#000000\" points=\"607.4368,-435.0553 611.5656,-425.2981 602.2533,-430.3509 607.4368,-435.0553\"/>\n</g>\n<!-- 4 -->\n<g id=\"node5\" class=\"node\">\n<title>4</title>\n<path fill=\"#3ee684\" stroke=\"#000000\" d=\"M293,-306C293,-306 156,-306 156,-306 150,-306 144,-300 144,-294 144,-294 144,-235 144,-235 144,-229 150,-223 156,-223 156,-223 293,-223 293,-223 299,-223 305,-229 305,-235 305,-235 305,-294 305,-294 305,-300 299,-306 293,-306\"/>\n<text text-anchor=\"middle\" x=\"224.5\" y=\"-290.8\" font-family=\"Helvetica,sans-Serif\" font-size=\"14.00\" fill=\"#000000\">PetalWidthCm &lt;= 1.65</text>\n<text text-anchor=\"middle\" x=\"224.5\" y=\"-275.8\" font-family=\"Helvetica,sans-Serif\" font-size=\"14.00\" fill=\"#000000\">entropy = 0.176</text>\n<text text-anchor=\"middle\" x=\"224.5\" y=\"-260.8\" font-family=\"Helvetica,sans-Serif\" font-size=\"14.00\" fill=\"#000000\">samples = 38</text>\n<text text-anchor=\"middle\" x=\"224.5\" y=\"-245.8\" font-family=\"Helvetica,sans-Serif\" font-size=\"14.00\" fill=\"#000000\">value = [0, 37, 1]</text>\n<text text-anchor=\"middle\" x=\"224.5\" y=\"-230.8\" font-family=\"Helvetica,sans-Serif\" font-size=\"14.00\" fill=\"#000000\">class = n</text>\n</g>\n<!-- 3&#45;&gt;4 -->\n<g id=\"edge4\" class=\"edge\">\n<title>3&#45;&gt;4</title>\n<path fill=\"none\" stroke=\"#000000\" d=\"M360.4019,-341.8796C343.0603,-332.0056 324.4467,-321.4075 306.7289,-311.3193\"/>\n<polygon fill=\"#000000\" stroke=\"#000000\" points=\"307.9787,-308.0034 297.5568,-306.0969 304.5151,-314.0865 307.9787,-308.0034\"/>\n</g>\n<!-- 9 -->\n<g id=\"node10\" class=\"node\">\n<title>9</title>\n<path fill=\"#c09cf2\" stroke=\"#000000\" d=\"M504.5,-306C504.5,-306 362.5,-306 362.5,-306 356.5,-306 350.5,-300 350.5,-294 350.5,-294 350.5,-235 350.5,-235 350.5,-229 356.5,-223 362.5,-223 362.5,-223 504.5,-223 504.5,-223 510.5,-223 516.5,-229 516.5,-235 516.5,-235 516.5,-294 516.5,-294 516.5,-300 510.5,-306 504.5,-306\"/>\n<text text-anchor=\"middle\" x=\"433.5\" y=\"-290.8\" font-family=\"Helvetica,sans-Serif\" font-size=\"14.00\" fill=\"#000000\">SepalWidthCm &lt;= 2.75</text>\n<text text-anchor=\"middle\" x=\"433.5\" y=\"-275.8\" font-family=\"Helvetica,sans-Serif\" font-size=\"14.00\" fill=\"#000000\">entropy = 0.918</text>\n<text text-anchor=\"middle\" x=\"433.5\" y=\"-260.8\" font-family=\"Helvetica,sans-Serif\" font-size=\"14.00\" fill=\"#000000\">samples = 3</text>\n<text text-anchor=\"middle\" x=\"433.5\" y=\"-245.8\" font-family=\"Helvetica,sans-Serif\" font-size=\"14.00\" fill=\"#000000\">value = [0, 1, 2]</text>\n<text text-anchor=\"middle\" x=\"433.5\" y=\"-230.8\" font-family=\"Helvetica,sans-Serif\" font-size=\"14.00\" fill=\"#000000\">class = d</text>\n</g>\n<!-- 3&#45;&gt;9 -->\n<g id=\"edge9\" class=\"edge\">\n<title>3&#45;&gt;9</title>\n<path fill=\"none\" stroke=\"#000000\" d=\"M433.5,-341.8796C433.5,-333.6838 433.5,-324.9891 433.5,-316.5013\"/>\n<polygon fill=\"#000000\" stroke=\"#000000\" points=\"437.0001,-316.298 433.5,-306.2981 430.0001,-316.2981 437.0001,-316.298\"/>\n</g>\n<!-- 5 -->\n<g id=\"node6\" class=\"node\">\n<title>5</title>\n<path fill=\"#39e581\" stroke=\"#000000\" d=\"M111,-179.5C111,-179.5 12,-179.5 12,-179.5 6,-179.5 0,-173.5 0,-167.5 0,-167.5 0,-123.5 0,-123.5 0,-117.5 6,-111.5 12,-111.5 12,-111.5 111,-111.5 111,-111.5 117,-111.5 123,-117.5 123,-123.5 123,-123.5 123,-167.5 123,-167.5 123,-173.5 117,-179.5 111,-179.5\"/>\n<text text-anchor=\"middle\" x=\"61.5\" y=\"-164.3\" font-family=\"Helvetica,sans-Serif\" font-size=\"14.00\" fill=\"#000000\">entropy = 0.0</text>\n<text text-anchor=\"middle\" x=\"61.5\" y=\"-149.3\" font-family=\"Helvetica,sans-Serif\" font-size=\"14.00\" fill=\"#000000\">samples = 36</text>\n<text text-anchor=\"middle\" x=\"61.5\" y=\"-134.3\" font-family=\"Helvetica,sans-Serif\" font-size=\"14.00\" fill=\"#000000\">value = [0, 36, 0]</text>\n<text text-anchor=\"middle\" x=\"61.5\" y=\"-119.3\" font-family=\"Helvetica,sans-Serif\" font-size=\"14.00\" fill=\"#000000\">class = n</text>\n</g>\n<!-- 4&#45;&gt;5 -->\n<g id=\"edge5\" class=\"edge\">\n<title>4&#45;&gt;5</title>\n<path fill=\"none\" stroke=\"#000000\" d=\"M167.4905,-222.8796C150.9949,-210.8368 133.0237,-197.7167 116.6441,-185.7586\"/>\n<polygon fill=\"#000000\" stroke=\"#000000\" points=\"118.3804,-182.6927 108.24,-179.623 114.2528,-188.3463 118.3804,-182.6927\"/>\n</g>\n<!-- 6 -->\n<g id=\"node7\" class=\"node\">\n<title>6</title>\n<path fill=\"#ffffff\" stroke=\"#000000\" d=\"M295.5,-187C295.5,-187 153.5,-187 153.5,-187 147.5,-187 141.5,-181 141.5,-175 141.5,-175 141.5,-116 141.5,-116 141.5,-110 147.5,-104 153.5,-104 153.5,-104 295.5,-104 295.5,-104 301.5,-104 307.5,-110 307.5,-116 307.5,-116 307.5,-175 307.5,-175 307.5,-181 301.5,-187 295.5,-187\"/>\n<text text-anchor=\"middle\" x=\"224.5\" y=\"-171.8\" font-family=\"Helvetica,sans-Serif\" font-size=\"14.00\" fill=\"#000000\">SepalWidthCm &lt;= 2.75</text>\n<text text-anchor=\"middle\" x=\"224.5\" y=\"-156.8\" font-family=\"Helvetica,sans-Serif\" font-size=\"14.00\" fill=\"#000000\">entropy = 1.0</text>\n<text text-anchor=\"middle\" x=\"224.5\" y=\"-141.8\" font-family=\"Helvetica,sans-Serif\" font-size=\"14.00\" fill=\"#000000\">samples = 2</text>\n<text text-anchor=\"middle\" x=\"224.5\" y=\"-126.8\" font-family=\"Helvetica,sans-Serif\" font-size=\"14.00\" fill=\"#000000\">value = [0, 1, 1]</text>\n<text text-anchor=\"middle\" x=\"224.5\" y=\"-111.8\" font-family=\"Helvetica,sans-Serif\" font-size=\"14.00\" fill=\"#000000\">class = n</text>\n</g>\n<!-- 4&#45;&gt;6 -->\n<g id=\"edge6\" class=\"edge\">\n<title>4&#45;&gt;6</title>\n<path fill=\"none\" stroke=\"#000000\" d=\"M224.5,-222.8796C224.5,-214.6838 224.5,-205.9891 224.5,-197.5013\"/>\n<polygon fill=\"#000000\" stroke=\"#000000\" points=\"228.0001,-197.298 224.5,-187.2981 221.0001,-197.2981 228.0001,-197.298\"/>\n</g>\n<!-- 7 -->\n<g id=\"node8\" class=\"node\">\n<title>7</title>\n<path fill=\"#8139e5\" stroke=\"#000000\" d=\"M204,-68C204,-68 113,-68 113,-68 107,-68 101,-62 101,-56 101,-56 101,-12 101,-12 101,-6 107,0 113,0 113,0 204,0 204,0 210,0 216,-6 216,-12 216,-12 216,-56 216,-56 216,-62 210,-68 204,-68\"/>\n<text text-anchor=\"middle\" x=\"158.5\" y=\"-52.8\" font-family=\"Helvetica,sans-Serif\" font-size=\"14.00\" fill=\"#000000\">entropy = 0.0</text>\n<text text-anchor=\"middle\" x=\"158.5\" y=\"-37.8\" font-family=\"Helvetica,sans-Serif\" font-size=\"14.00\" fill=\"#000000\">samples = 1</text>\n<text text-anchor=\"middle\" x=\"158.5\" y=\"-22.8\" font-family=\"Helvetica,sans-Serif\" font-size=\"14.00\" fill=\"#000000\">value = [0, 0, 1]</text>\n<text text-anchor=\"middle\" x=\"158.5\" y=\"-7.8\" font-family=\"Helvetica,sans-Serif\" font-size=\"14.00\" fill=\"#000000\">class = d</text>\n</g>\n<!-- 6&#45;&gt;7 -->\n<g id=\"edge7\" class=\"edge\">\n<title>6&#45;&gt;7</title>\n<path fill=\"none\" stroke=\"#000000\" d=\"M199.924,-103.9815C194.7014,-95.1585 189.1771,-85.8258 183.9237,-76.9506\"/>\n<polygon fill=\"#000000\" stroke=\"#000000\" points=\"186.8874,-75.0863 178.7816,-68.2637 180.8636,-78.652 186.8874,-75.0863\"/>\n</g>\n<!-- 8 -->\n<g id=\"node9\" class=\"node\">\n<title>8</title>\n<path fill=\"#39e581\" stroke=\"#000000\" d=\"M337,-68C337,-68 246,-68 246,-68 240,-68 234,-62 234,-56 234,-56 234,-12 234,-12 234,-6 240,0 246,0 246,0 337,0 337,0 343,0 349,-6 349,-12 349,-12 349,-56 349,-56 349,-62 343,-68 337,-68\"/>\n<text text-anchor=\"middle\" x=\"291.5\" y=\"-52.8\" font-family=\"Helvetica,sans-Serif\" font-size=\"14.00\" fill=\"#000000\">entropy = 0.0</text>\n<text text-anchor=\"middle\" x=\"291.5\" y=\"-37.8\" font-family=\"Helvetica,sans-Serif\" font-size=\"14.00\" fill=\"#000000\">samples = 1</text>\n<text text-anchor=\"middle\" x=\"291.5\" y=\"-22.8\" font-family=\"Helvetica,sans-Serif\" font-size=\"14.00\" fill=\"#000000\">value = [0, 1, 0]</text>\n<text text-anchor=\"middle\" x=\"291.5\" y=\"-7.8\" font-family=\"Helvetica,sans-Serif\" font-size=\"14.00\" fill=\"#000000\">class = n</text>\n</g>\n<!-- 6&#45;&gt;8 -->\n<g id=\"edge8\" class=\"edge\">\n<title>6&#45;&gt;8</title>\n<path fill=\"none\" stroke=\"#000000\" d=\"M249.4483,-103.9815C254.7501,-95.1585 260.3581,-85.8258 265.6911,-76.9506\"/>\n<polygon fill=\"#000000\" stroke=\"#000000\" points=\"268.7605,-78.638 270.9111,-68.2637 262.7604,-75.0325 268.7605,-78.638\"/>\n</g>\n<!-- 10 -->\n<g id=\"node11\" class=\"node\">\n<title>10</title>\n<path fill=\"#39e581\" stroke=\"#000000\" d=\"M429,-179.5C429,-179.5 338,-179.5 338,-179.5 332,-179.5 326,-173.5 326,-167.5 326,-167.5 326,-123.5 326,-123.5 326,-117.5 332,-111.5 338,-111.5 338,-111.5 429,-111.5 429,-111.5 435,-111.5 441,-117.5 441,-123.5 441,-123.5 441,-167.5 441,-167.5 441,-173.5 435,-179.5 429,-179.5\"/>\n<text text-anchor=\"middle\" x=\"383.5\" y=\"-164.3\" font-family=\"Helvetica,sans-Serif\" font-size=\"14.00\" fill=\"#000000\">entropy = 0.0</text>\n<text text-anchor=\"middle\" x=\"383.5\" y=\"-149.3\" font-family=\"Helvetica,sans-Serif\" font-size=\"14.00\" fill=\"#000000\">samples = 1</text>\n<text text-anchor=\"middle\" x=\"383.5\" y=\"-134.3\" font-family=\"Helvetica,sans-Serif\" font-size=\"14.00\" fill=\"#000000\">value = [0, 1, 0]</text>\n<text text-anchor=\"middle\" x=\"383.5\" y=\"-119.3\" font-family=\"Helvetica,sans-Serif\" font-size=\"14.00\" fill=\"#000000\">class = n</text>\n</g>\n<!-- 9&#45;&gt;10 -->\n<g id=\"edge10\" class=\"edge\">\n<title>9&#45;&gt;10</title>\n<path fill=\"none\" stroke=\"#000000\" d=\"M416.0124,-222.8796C411.4384,-211.9935 406.4946,-200.227 401.8758,-189.2344\"/>\n<polygon fill=\"#000000\" stroke=\"#000000\" points=\"405.0185,-187.6784 397.918,-179.8149 398.565,-190.39 405.0185,-187.6784\"/>\n</g>\n<!-- 11 -->\n<g id=\"node12\" class=\"node\">\n<title>11</title>\n<path fill=\"#8139e5\" stroke=\"#000000\" d=\"M562,-179.5C562,-179.5 471,-179.5 471,-179.5 465,-179.5 459,-173.5 459,-167.5 459,-167.5 459,-123.5 459,-123.5 459,-117.5 465,-111.5 471,-111.5 471,-111.5 562,-111.5 562,-111.5 568,-111.5 574,-117.5 574,-123.5 574,-123.5 574,-167.5 574,-167.5 574,-173.5 568,-179.5 562,-179.5\"/>\n<text text-anchor=\"middle\" x=\"516.5\" y=\"-164.3\" font-family=\"Helvetica,sans-Serif\" font-size=\"14.00\" fill=\"#000000\">entropy = 0.0</text>\n<text text-anchor=\"middle\" x=\"516.5\" y=\"-149.3\" font-family=\"Helvetica,sans-Serif\" font-size=\"14.00\" fill=\"#000000\">samples = 2</text>\n<text text-anchor=\"middle\" x=\"516.5\" y=\"-134.3\" font-family=\"Helvetica,sans-Serif\" font-size=\"14.00\" fill=\"#000000\">value = [0, 0, 2]</text>\n<text text-anchor=\"middle\" x=\"516.5\" y=\"-119.3\" font-family=\"Helvetica,sans-Serif\" font-size=\"14.00\" fill=\"#000000\">class = d</text>\n</g>\n<!-- 9&#45;&gt;11 -->\n<g id=\"edge11\" class=\"edge\">\n<title>9&#45;&gt;11</title>\n<path fill=\"none\" stroke=\"#000000\" d=\"M462.5294,-222.8796C470.3523,-211.6636 478.827,-199.5131 486.6917,-188.2372\"/>\n<polygon fill=\"#000000\" stroke=\"#000000\" points=\"489.716,-190.0192 492.5661,-179.8149 483.9746,-186.0147 489.716,-190.0192\"/>\n</g>\n<!-- 13 -->\n<g id=\"node14\" class=\"node\">\n<title>13</title>\n<path fill=\"#c09cf2\" stroke=\"#000000\" d=\"M716.5,-306C716.5,-306 582.5,-306 582.5,-306 576.5,-306 570.5,-300 570.5,-294 570.5,-294 570.5,-235 570.5,-235 570.5,-229 576.5,-223 582.5,-223 582.5,-223 716.5,-223 716.5,-223 722.5,-223 728.5,-229 728.5,-235 728.5,-235 728.5,-294 728.5,-294 728.5,-300 722.5,-306 716.5,-306\"/>\n<text text-anchor=\"middle\" x=\"649.5\" y=\"-290.8\" font-family=\"Helvetica,sans-Serif\" font-size=\"14.00\" fill=\"#000000\">SepalWidthCm &lt;= 3.1</text>\n<text text-anchor=\"middle\" x=\"649.5\" y=\"-275.8\" font-family=\"Helvetica,sans-Serif\" font-size=\"14.00\" fill=\"#000000\">entropy = 0.918</text>\n<text text-anchor=\"middle\" x=\"649.5\" y=\"-260.8\" font-family=\"Helvetica,sans-Serif\" font-size=\"14.00\" fill=\"#000000\">samples = 3</text>\n<text text-anchor=\"middle\" x=\"649.5\" y=\"-245.8\" font-family=\"Helvetica,sans-Serif\" font-size=\"14.00\" fill=\"#000000\">value = [0, 1, 2]</text>\n<text text-anchor=\"middle\" x=\"649.5\" y=\"-230.8\" font-family=\"Helvetica,sans-Serif\" font-size=\"14.00\" fill=\"#000000\">class = d</text>\n</g>\n<!-- 12&#45;&gt;13 -->\n<g id=\"edge13\" class=\"edge\">\n<title>12&#45;&gt;13</title>\n<path fill=\"none\" stroke=\"#000000\" d=\"M649.5,-341.8796C649.5,-333.6838 649.5,-324.9891 649.5,-316.5013\"/>\n<polygon fill=\"#000000\" stroke=\"#000000\" points=\"653.0001,-316.298 649.5,-306.2981 646.0001,-316.2981 653.0001,-316.298\"/>\n</g>\n<!-- 16 -->\n<g id=\"node17\" class=\"node\">\n<title>16</title>\n<path fill=\"#8139e5\" stroke=\"#000000\" d=\"M858,-298.5C858,-298.5 759,-298.5 759,-298.5 753,-298.5 747,-292.5 747,-286.5 747,-286.5 747,-242.5 747,-242.5 747,-236.5 753,-230.5 759,-230.5 759,-230.5 858,-230.5 858,-230.5 864,-230.5 870,-236.5 870,-242.5 870,-242.5 870,-286.5 870,-286.5 870,-292.5 864,-298.5 858,-298.5\"/>\n<text text-anchor=\"middle\" x=\"808.5\" y=\"-283.3\" font-family=\"Helvetica,sans-Serif\" font-size=\"14.00\" fill=\"#000000\">entropy = 0.0</text>\n<text text-anchor=\"middle\" x=\"808.5\" y=\"-268.3\" font-family=\"Helvetica,sans-Serif\" font-size=\"14.00\" fill=\"#000000\">samples = 30</text>\n<text text-anchor=\"middle\" x=\"808.5\" y=\"-253.3\" font-family=\"Helvetica,sans-Serif\" font-size=\"14.00\" fill=\"#000000\">value = [0, 0, 30]</text>\n<text text-anchor=\"middle\" x=\"808.5\" y=\"-238.3\" font-family=\"Helvetica,sans-Serif\" font-size=\"14.00\" fill=\"#000000\">class = d</text>\n</g>\n<!-- 12&#45;&gt;16 -->\n<g id=\"edge16\" class=\"edge\">\n<title>12&#45;&gt;16</title>\n<path fill=\"none\" stroke=\"#000000\" d=\"M705.1105,-341.8796C721.2013,-329.8368 738.7315,-316.7167 754.7091,-304.7586\"/>\n<polygon fill=\"#000000\" stroke=\"#000000\" points=\"756.9982,-307.4171 762.907,-298.623 752.8038,-301.8129 756.9982,-307.4171\"/>\n</g>\n<!-- 14 -->\n<g id=\"node15\" class=\"node\">\n<title>14</title>\n<path fill=\"#8139e5\" stroke=\"#000000\" d=\"M695,-179.5C695,-179.5 604,-179.5 604,-179.5 598,-179.5 592,-173.5 592,-167.5 592,-167.5 592,-123.5 592,-123.5 592,-117.5 598,-111.5 604,-111.5 604,-111.5 695,-111.5 695,-111.5 701,-111.5 707,-117.5 707,-123.5 707,-123.5 707,-167.5 707,-167.5 707,-173.5 701,-179.5 695,-179.5\"/>\n<text text-anchor=\"middle\" x=\"649.5\" y=\"-164.3\" font-family=\"Helvetica,sans-Serif\" font-size=\"14.00\" fill=\"#000000\">entropy = 0.0</text>\n<text text-anchor=\"middle\" x=\"649.5\" y=\"-149.3\" font-family=\"Helvetica,sans-Serif\" font-size=\"14.00\" fill=\"#000000\">samples = 2</text>\n<text text-anchor=\"middle\" x=\"649.5\" y=\"-134.3\" font-family=\"Helvetica,sans-Serif\" font-size=\"14.00\" fill=\"#000000\">value = [0, 0, 2]</text>\n<text text-anchor=\"middle\" x=\"649.5\" y=\"-119.3\" font-family=\"Helvetica,sans-Serif\" font-size=\"14.00\" fill=\"#000000\">class = d</text>\n</g>\n<!-- 13&#45;&gt;14 -->\n<g id=\"edge14\" class=\"edge\">\n<title>13&#45;&gt;14</title>\n<path fill=\"none\" stroke=\"#000000\" d=\"M649.5,-222.8796C649.5,-212.2134 649.5,-200.7021 649.5,-189.9015\"/>\n<polygon fill=\"#000000\" stroke=\"#000000\" points=\"653.0001,-189.8149 649.5,-179.8149 646.0001,-189.815 653.0001,-189.8149\"/>\n</g>\n<!-- 15 -->\n<g id=\"node16\" class=\"node\">\n<title>15</title>\n<path fill=\"#39e581\" stroke=\"#000000\" d=\"M828,-179.5C828,-179.5 737,-179.5 737,-179.5 731,-179.5 725,-173.5 725,-167.5 725,-167.5 725,-123.5 725,-123.5 725,-117.5 731,-111.5 737,-111.5 737,-111.5 828,-111.5 828,-111.5 834,-111.5 840,-117.5 840,-123.5 840,-123.5 840,-167.5 840,-167.5 840,-173.5 834,-179.5 828,-179.5\"/>\n<text text-anchor=\"middle\" x=\"782.5\" y=\"-164.3\" font-family=\"Helvetica,sans-Serif\" font-size=\"14.00\" fill=\"#000000\">entropy = 0.0</text>\n<text text-anchor=\"middle\" x=\"782.5\" y=\"-149.3\" font-family=\"Helvetica,sans-Serif\" font-size=\"14.00\" fill=\"#000000\">samples = 1</text>\n<text text-anchor=\"middle\" x=\"782.5\" y=\"-134.3\" font-family=\"Helvetica,sans-Serif\" font-size=\"14.00\" fill=\"#000000\">value = [0, 1, 0]</text>\n<text text-anchor=\"middle\" x=\"782.5\" y=\"-119.3\" font-family=\"Helvetica,sans-Serif\" font-size=\"14.00\" fill=\"#000000\">class = n</text>\n</g>\n<!-- 13&#45;&gt;15 -->\n<g id=\"edge15\" class=\"edge\">\n<title>13&#45;&gt;15</title>\n<path fill=\"none\" stroke=\"#000000\" d=\"M696.0169,-222.8796C709.167,-211.1138 723.4663,-198.3197 736.5809,-186.5855\"/>\n<polygon fill=\"#000000\" stroke=\"#000000\" points=\"739.0294,-189.0913 744.148,-179.8149 734.3618,-183.8746 739.0294,-189.0913\"/>\n</g>\n</g>\n</svg>\n"
          },
          "metadata": {
            "tags": []
          },
          "execution_count": 9
        }
      ]
    }
  ]
}